{
 "cells": [
  {
   "cell_type": "code",
   "execution_count": 3,
   "metadata": {},
   "outputs": [
    {
     "name": "stdout",
     "output_type": "stream",
     "text": [
      "<class 'pandas.core.frame.DataFrame'>\n",
      "RangeIndex: 13724422 entries, 0 to 13724421\n",
      "Data columns (total 3 columns):\n",
      " #   Column    Dtype \n",
      "---  ------    ----- \n",
      " 0   rsid      object\n",
      " 1   position  int64 \n",
      " 2   genotype  object\n",
      "dtypes: int64(1), object(2)\n",
      "memory usage: 314.1+ MB\n",
      "None\n",
      "DONE.\n"
     ]
    }
   ],
   "source": [
    "import pandas as pd\n",
    "\n",
    "df = pd.read_csv(\"C:/Users/Lea/Desktop/LeaIntern/AD/clean_SNP_files/user1075_file550_yearofbirth_1963_sex_XX.23andme.txt.csv\", low_memory=False)\n",
    "print(df.info())\n",
    "df.to_parquet(\"C:/Users/Lea/Desktop/LeaIntern/AD/clean_SNP_files/user1075_TESTPARQUETT_user1075\")\n",
    "print(\"DONE.\")\n",
    "\n"
   ]
  },
  {
   "cell_type": "code",
   "execution_count": 4,
   "metadata": {},
   "outputs": [
    {
     "data": {
      "text/html": [
       "<div>\n",
       "<style scoped>\n",
       "    .dataframe tbody tr th:only-of-type {\n",
       "        vertical-align: middle;\n",
       "    }\n",
       "\n",
       "    .dataframe tbody tr th {\n",
       "        vertical-align: top;\n",
       "    }\n",
       "\n",
       "    .dataframe thead th {\n",
       "        text-align: right;\n",
       "    }\n",
       "</style>\n",
       "<table border=\"1\" class=\"dataframe\">\n",
       "  <thead>\n",
       "    <tr style=\"text-align: right;\">\n",
       "      <th></th>\n",
       "      <th>rsid</th>\n",
       "      <th>position</th>\n",
       "      <th>genotype</th>\n",
       "    </tr>\n",
       "  </thead>\n",
       "  <tbody>\n",
       "    <tr>\n",
       "      <th>0</th>\n",
       "      <td>rs548049170</td>\n",
       "      <td>69869</td>\n",
       "      <td>TT</td>\n",
       "    </tr>\n",
       "    <tr>\n",
       "      <th>1</th>\n",
       "      <td>rs9283150</td>\n",
       "      <td>565508</td>\n",
       "      <td>AA</td>\n",
       "    </tr>\n",
       "    <tr>\n",
       "      <th>2</th>\n",
       "      <td>rs116587930</td>\n",
       "      <td>727841</td>\n",
       "      <td>GG</td>\n",
       "    </tr>\n",
       "    <tr>\n",
       "      <th>3</th>\n",
       "      <td>rs3131972</td>\n",
       "      <td>752721</td>\n",
       "      <td>GG</td>\n",
       "    </tr>\n",
       "    <tr>\n",
       "      <th>4</th>\n",
       "      <td>rs12184325</td>\n",
       "      <td>754105</td>\n",
       "      <td>CC</td>\n",
       "    </tr>\n",
       "    <tr>\n",
       "      <th>...</th>\n",
       "      <td>...</td>\n",
       "      <td>...</td>\n",
       "      <td>...</td>\n",
       "    </tr>\n",
       "    <tr>\n",
       "      <th>13724417</th>\n",
       "      <td>i4000757</td>\n",
       "      <td>16526</td>\n",
       "      <td>G</td>\n",
       "    </tr>\n",
       "    <tr>\n",
       "      <th>13724418</th>\n",
       "      <td>i4990307</td>\n",
       "      <td>16527</td>\n",
       "      <td>C</td>\n",
       "    </tr>\n",
       "    <tr>\n",
       "      <th>13724419</th>\n",
       "      <td>i4000756</td>\n",
       "      <td>16540</td>\n",
       "      <td>C</td>\n",
       "    </tr>\n",
       "    <tr>\n",
       "      <th>13724420</th>\n",
       "      <td>i4000755</td>\n",
       "      <td>16548</td>\n",
       "      <td>C</td>\n",
       "    </tr>\n",
       "    <tr>\n",
       "      <th>13724421</th>\n",
       "      <td>i4000759</td>\n",
       "      <td>16567</td>\n",
       "      <td>A</td>\n",
       "    </tr>\n",
       "  </tbody>\n",
       "</table>\n",
       "<p>13724422 rows × 3 columns</p>\n",
       "</div>"
      ],
      "text/plain": [
       "                 rsid  position genotype\n",
       "0         rs548049170     69869       TT\n",
       "1           rs9283150    565508       AA\n",
       "2         rs116587930    727841       GG\n",
       "3           rs3131972    752721       GG\n",
       "4          rs12184325    754105       CC\n",
       "...               ...       ...      ...\n",
       "13724417     i4000757     16526        G\n",
       "13724418     i4990307     16527        C\n",
       "13724419     i4000756     16540        C\n",
       "13724420     i4000755     16548        C\n",
       "13724421     i4000759     16567        A\n",
       "\n",
       "[13724422 rows x 3 columns]"
      ]
     },
     "execution_count": 4,
     "metadata": {},
     "output_type": "execute_result"
    }
   ],
   "source": [
    "df = pd.read_parquet(\"C:/Users/Lea/Desktop/LeaIntern/AD/clean_SNP_files/user1075_TESTPARQUETT_user1075\")\n",
    "\n",
    "df"
   ]
  }
 ],
 "metadata": {
  "kernelspec": {
   "display_name": "Python 3.10.8 64-bit (microsoft store)",
   "language": "python",
   "name": "python3"
  },
  "language_info": {
   "codemirror_mode": {
    "name": "ipython",
    "version": 3
   },
   "file_extension": ".py",
   "mimetype": "text/x-python",
   "name": "python",
   "nbconvert_exporter": "python",
   "pygments_lexer": "ipython3",
   "version": "3.10.8"
  },
  "orig_nbformat": 4,
  "vscode": {
   "interpreter": {
    "hash": "a1f95b24995c6ef655ffa9d54bd829b00250e14679292be6736d298f940e6170"
   }
  }
 },
 "nbformat": 4,
 "nbformat_minor": 2
}
